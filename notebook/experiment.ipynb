{
 "cells": [
  {
   "cell_type": "code",
   "execution_count": 1,
   "id": "7be8b935",
   "metadata": {},
   "outputs": [],
   "source": [
    "import os\n",
    "import sys\n",
    "\n",
    "\n",
    "class TradingBotException(Exception):\n",
    "    def __init__(self, error_message, error_details: sys):\n",
    "        self.error_message = error_message\n",
    "        _, _, exc_tb = error_details.exc_info()\n",
    "        \n",
    "        self.lineno = exc_tb.tb_lineno\n",
    "        self.file_name = exc_tb.tb_frame.f_code.co_filename \n",
    "    \n",
    "    def __str__(self):\n",
    "        return \"Error occured in python script name [{0}] line number [{1}] error message [{2}]\".format(\n",
    "            self.file_name, self.lineno, str(self.error_message)\n",
    "        ) \n",
    "    "
   ]
  },
  {
   "cell_type": "code",
   "execution_count": 2,
   "id": "6970f242",
   "metadata": {},
   "outputs": [
    {
     "ename": "TradingBotException",
     "evalue": "Error occured in python script name [C:\\Users\\sowmy\\AppData\\Local\\Temp\\ipykernel_4972\\2222399519.py] line number [3] error message [division by zero]",
     "output_type": "error",
     "traceback": [
      "\u001b[31m---------------------------------------------------------------------------\u001b[39m",
      "\u001b[31mZeroDivisionError\u001b[39m                         Traceback (most recent call last)",
      "\u001b[36mCell\u001b[39m\u001b[36m \u001b[39m\u001b[32mIn[2]\u001b[39m\u001b[32m, line 3\u001b[39m\n\u001b[32m      2\u001b[39m \u001b[38;5;28;01mtry\u001b[39;00m:\n\u001b[32m----> \u001b[39m\u001b[32m3\u001b[39m     a = \u001b[32;43m1\u001b[39;49m\u001b[43m/\u001b[49m\u001b[32;43m0\u001b[39;49m\n\u001b[32m      4\u001b[39m     \u001b[38;5;28mprint\u001b[39m(\u001b[33m\"\u001b[39m\u001b[33mThis will not be printed\u001b[39m\u001b[33m\"\u001b[39m) \n",
      "\u001b[31mZeroDivisionError\u001b[39m: division by zero",
      "\nDuring handling of the above exception, another exception occurred:\n",
      "\u001b[31mTradingBotException\u001b[39m                       Traceback (most recent call last)",
      "\u001b[36mCell\u001b[39m\u001b[36m \u001b[39m\u001b[32mIn[2]\u001b[39m\u001b[32m, line 6\u001b[39m\n\u001b[32m      4\u001b[39m     \u001b[38;5;28mprint\u001b[39m(\u001b[33m\"\u001b[39m\u001b[33mThis will not be printed\u001b[39m\u001b[33m\"\u001b[39m) \n\u001b[32m      5\u001b[39m \u001b[38;5;28;01mexcept\u001b[39;00m \u001b[38;5;167;01mException\u001b[39;00m \u001b[38;5;28;01mas\u001b[39;00m e:\n\u001b[32m----> \u001b[39m\u001b[32m6\u001b[39m     \u001b[38;5;28;01mraise\u001b[39;00m TradingBotException(e, sys)\n",
      "\u001b[31mTradingBotException\u001b[39m: Error occured in python script name [C:\\Users\\sowmy\\AppData\\Local\\Temp\\ipykernel_4972\\2222399519.py] line number [3] error message [division by zero]"
     ]
    }
   ],
   "source": [
    "    \n",
    "if __name__ == \"__main__\":\n",
    "    try:\n",
    "        a = 1/0\n",
    "        print(\"This will not be printed\") \n",
    "    except Exception as e:\n",
    "        raise TradingBotException(e, sys)"
   ]
  },
  {
   "cell_type": "code",
   "execution_count": 14,
   "id": "89e267bf",
   "metadata": {},
   "outputs": [
    {
     "name": "stderr",
     "output_type": "stream",
     "text": [
      "[ 2025-05-13 15:21:49,867 ] 22 root - INFO - hi\n"
     ]
    }
   ],
   "source": [
    "import logging\n",
    "import os\n",
    "from datetime import datetime\n",
    "\n",
    "# Create 'logs/' directory if it doesn't exist\n",
    "LOG_DIR = os.path.join(os.getcwd(), \"logs\")\n",
    "os.makedirs(LOG_DIR, exist_ok=True)\n",
    "\n",
    "# Create unique log file name\n",
    "LOG_FILE = f\"{datetime.now().strftime('%m_%d_%Y_%H_%M_%S')}.log\"\n",
    "LOG_FILE_PATH = os.path.join(LOG_DIR, LOG_FILE)\n",
    "\n",
    "# Logging configuration\n",
    "logging.basicConfig(\n",
    "    filename=LOG_FILE_PATH,\n",
    "    format=\"[ %(asctime)s ] %(lineno)d %(name)s - %(levelname)s - %(message)s\",\n",
    "    level=logging.INFO,\n",
    ")\n",
    "\n",
    "logger = logging.getLogger(\"my_agentic_app\")\n",
    "\n",
    "logging.info(\"hi\")"
   ]
  },
  {
   "cell_type": "code",
   "execution_count": 17,
   "id": "c706df11",
   "metadata": {},
   "outputs": [],
   "source": [
    "from typing import TypedDict, Annotated\n",
    "from langgraph.graph import StateGraph, START, END\n",
    "from langgraph.graph.message import add_messages\n",
    "from langgraph.prebuilt import ToolNode, tools_condition\n",
    "from langchain_core.messages import HumanMessage, AIMessage\n",
    "from utils.model_loaders import ModelLoader \n",
    "from toolkit.tools import *\n",
    "from IPython.display import display, Image\n",
    "from langgraph.checkpoint.memory import MemorySaver"
   ]
  },
  {
   "cell_type": "code",
   "execution_count": 63,
   "id": "6c971b85",
   "metadata": {},
   "outputs": [],
   "source": [
    "memory = MemorySaver()\n",
    "\n",
    "class State(TypedDict):\n",
    "    messages: Annotated[list, add_messages]\n",
    "\n",
    "\n",
    "class GraphBuilder:\n",
    "    def __init__(self):\n",
    "        self.model_loader = ModelLoader()\n",
    "        self.llm = self.model_loader.load_llm()\n",
    "        self.tools = [retriever_tool, tavily_tool, financial_tools] \n",
    "        llm_with_tools = self.llm.bind_tools(tools=self.tools)\n",
    "        self.llm_with_tools = llm_with_tools\n",
    "        self.graph = None\n",
    "    \n",
    "    def _chatbot_node(self, state: State):\n",
    "        return {\"messages\": [self.llm_with_tools.invoke(state['messages'])]} \n",
    "    \n",
    "    def build(self):\n",
    "        graph_builder = StateGraph(State) \n",
    "        \n",
    "        graph_builder.add_node(\"chatbot\", self._chatbot_node)\n",
    "        graph_builder.add_node(\"tools\", ToolNode(self.tools))\n",
    "        \n",
    "        graph_builder.add_conditional_edges(\"chatbot\",\n",
    "                                            tools_condition\n",
    "                                            )\n",
    "        graph_builder.add_edge(START, \"chatbot\")\n",
    "        graph_builder.add_edge(\"tools\", \"chatbot\")\n",
    "        \n",
    "        self.graph = graph_builder.compile(checkpointer=memory)\n",
    "        \n",
    "    def visualize_graph(self, app):\n",
    "        display(Image(app.get_graph().draw_mermaid_png()))\n",
    "    \n",
    "    def get_graph(self):\n",
    "        if self.graph is None:\n",
    "            raise ValueError(\"Graph not built. Call build() first.\")\n",
    "        return self.graph"
   ]
  },
  {
   "cell_type": "code",
   "execution_count": 64,
   "id": "c83989e8",
   "metadata": {},
   "outputs": [
    {
     "name": "stdout",
     "output_type": "stream",
     "text": [
      "LLM loading...\n"
     ]
    }
   ],
   "source": [
    "builder = GraphBuilder()\n",
    "\n",
    "build = builder.build()\n",
    "graph = builder.get_graph()"
   ]
  },
  {
   "cell_type": "code",
   "execution_count": 65,
   "id": "eed640c2",
   "metadata": {},
   "outputs": [
    {
     "data": {
      "image/png": "[encoded data removed]",
      "text/plain": [
       "<IPython.core.display.Image object>"
      ]
     },
     "metadata": {},
     "output_type": "display_data"
    }
   ],
   "source": [
    "builder.visualize_graph(graph)"
   ]
  },
  {
   "cell_type": "code",
   "execution_count": 66,
   "id": "21eee2c9",
   "metadata": {},
   "outputs": [],
   "source": [
    "config = {\"configurable\": {\"thread_id\": 1}}"
   ]
  },
  {
   "cell_type": "code",
   "execution_count": 67,
   "id": "a1713da9",
   "metadata": {},
   "outputs": [
    {
     "name": "stdout",
     "output_type": "stream",
     "text": [
      "Loading embedding model\n",
      "Loading embedding model\n"
     ]
    },
    {
     "data": {
      "text/plain": [
       "{'messages': [HumanMessage(content='hi', additional_kwargs={}, response_metadata={}, id='b4ab6364-090e-4ae3-bd84-2cdac1f935a2'),\n",
       "  AIMessage(content='', additional_kwargs={'tool_calls': [{'id': 'call_kx92', 'function': {'arguments': '{\"question\": \"What is the capital of France?\"}', 'name': 'retriever_tool'}, 'type': 'function'}]}, response_metadata={'token_usage': {'completion_tokens': 457, 'prompt_tokens': 277, 'total_tokens': 734, 'completion_time': 1.701199335, 'prompt_time': 0.019032456, 'queue_time': 0.056287724, 'total_time': 1.720231791}, 'model_name': 'deepseek-r1-distill-llama-70b', 'system_fingerprint': 'fp_1bbe7845ec', 'finish_reason': 'tool_calls', 'logprobs': None}, id='run--7731c4e6-b28d-49ff-a7af-b3640fff411e-0', tool_calls=[{'name': 'retriever_tool', 'args': {'question': 'What is the capital of France?'}, 'id': 'call_kx92', 'type': 'tool_call'}], usage_metadata={'input_tokens': 277, 'output_tokens': 457, 'total_tokens': 734}),\n",
       "  ToolMessage(content=\"Error: KeyError('score_threshold')\\n Please fix your mistakes.\", name='retriever_tool', id='b287ca70-a244-4cd9-a9ba-8fcaf3917a7d', tool_call_id='call_kx92', status='error'),\n",
       "  AIMessage(content='', additional_kwargs={'tool_calls': [{'id': 'call_nysk', 'function': {'arguments': '{\"question\":\"What is the capital of France?\",\"score_threshold\":0}', 'name': 'retriever_tool'}, 'type': 'function'}]}, response_metadata={'token_usage': {'completion_tokens': 185, 'prompt_tokens': 353, 'total_tokens': 538, 'completion_time': 0.883972735, 'prompt_time': 0.03020654, 'queue_time': 0.05485063, 'total_time': 0.914179275}, 'model_name': 'deepseek-r1-distill-llama-70b', 'system_fingerprint': 'fp_1bbe7845ec', 'finish_reason': 'tool_calls', 'logprobs': None}, id='run--cd05473e-f733-4147-9cb2-17286225f74d-0', tool_calls=[{'name': 'retriever_tool', 'args': {'question': 'What is the capital of France?', 'score_threshold': 0}, 'id': 'call_nysk', 'type': 'tool_call'}], usage_metadata={'input_tokens': 353, 'output_tokens': 185, 'total_tokens': 538}),\n",
       "  ToolMessage(content=\"Error: KeyError('score_threshold')\\n Please fix your mistakes.\", name='retriever_tool', id='f735e59a-88fa-4b2f-bbdd-86e0400994f8', tool_call_id='call_nysk', status='error'),\n",
       "  AIMessage(content='<tool_call>{\"id\":\"call_nj0l\",\"name\":\"retriever_tool\",\"arguments\":{\"question\":\"What is the capital of France?\"}}<｜tool▁calls▁end｜>', additional_kwargs={}, response_metadata={'token_usage': {'completion_tokens': 246, 'prompt_tokens': 434, 'total_tokens': 680, 'completion_time': 1.089702275, 'prompt_time': 0.029854138, 'queue_time': 0.059510542, 'total_time': 1.119556413}, 'model_name': 'deepseek-r1-distill-llama-70b', 'system_fingerprint': 'fp_1bbe7845ec', 'finish_reason': 'stop', 'logprobs': None}, id='run--3e2975ed-2393-4892-86c8-ba3565a0dd04-0', usage_metadata={'input_tokens': 434, 'output_tokens': 246, 'total_tokens': 680})]}"
      ]
     },
     "execution_count": 67,
     "metadata": {},
     "output_type": "execute_result"
    }
   ],
   "source": [
    "graph.invoke({\"messages\": \"hi\"}, config=config)"
   ]
  },
  {
   "cell_type": "code",
   "execution_count": 68,
   "id": "52c3b93b",
   "metadata": {},
   "outputs": [],
   "source": [
    "messages = \"what is the current stock price of adani greens?\""
   ]
  },
  {
   "cell_type": "code",
   "execution_count": 46,
   "id": "93eb6aaf",
   "metadata": {},
   "outputs": [],
   "source": [
    "messages = \"can you give me a deep knowledge of the stock market?\""
   ]
  },
  {
   "cell_type": "code",
   "execution_count": 77,
   "id": "83e66cf2",
   "metadata": {},
   "outputs": [],
   "source": [
    "result = graph.invoke({\"messages\": messages}, config=config)"
   ]
  },
  {
   "cell_type": "code",
   "execution_count": 78,
   "id": "26742494",
   "metadata": {},
   "outputs": [
    {
     "data": {
      "text/plain": [
       "{'messages': [HumanMessage(content='hi', additional_kwargs={}, response_metadata={}, id='b4ab6364-090e-4ae3-bd84-2cdac1f935a2'),\n",
       "  AIMessage(content='', additional_kwargs={'tool_calls': [{'id': 'call_kx92', 'function': {'arguments': '{\"question\": \"What is the capital of France?\"}', 'name': 'retriever_tool'}, 'type': 'function'}]}, response_metadata={'token_usage': {'completion_tokens': 457, 'prompt_tokens': 277, 'total_tokens': 734, 'completion_time': 1.701199335, 'prompt_time': 0.019032456, 'queue_time': 0.056287724, 'total_time': 1.720231791}, 'model_name': 'deepseek-r1-distill-llama-70b', 'system_fingerprint': 'fp_1bbe7845ec', 'finish_reason': 'tool_calls', 'logprobs': None}, id='run--7731c4e6-b28d-49ff-a7af-b3640fff411e-0', tool_calls=[{'name': 'retriever_tool', 'args': {'question': 'What is the capital of France?'}, 'id': 'call_kx92', 'type': 'tool_call'}], usage_metadata={'input_tokens': 277, 'output_tokens': 457, 'total_tokens': 734}),\n",
       "  ToolMessage(content=\"Error: KeyError('score_threshold')\\n Please fix your mistakes.\", name='retriever_tool', id='b287ca70-a244-4cd9-a9ba-8fcaf3917a7d', tool_call_id='call_kx92', status='error'),\n",
       "  AIMessage(content='', additional_kwargs={'tool_calls': [{'id': 'call_nysk', 'function': {'arguments': '{\"question\":\"What is the capital of France?\",\"score_threshold\":0}', 'name': 'retriever_tool'}, 'type': 'function'}]}, response_metadata={'token_usage': {'completion_tokens': 185, 'prompt_tokens': 353, 'total_tokens': 538, 'completion_time': 0.883972735, 'prompt_time': 0.03020654, 'queue_time': 0.05485063, 'total_time': 0.914179275}, 'model_name': 'deepseek-r1-distill-llama-70b', 'system_fingerprint': 'fp_1bbe7845ec', 'finish_reason': 'tool_calls', 'logprobs': None}, id='run--cd05473e-f733-4147-9cb2-17286225f74d-0', tool_calls=[{'name': 'retriever_tool', 'args': {'question': 'What is the capital of France?', 'score_threshold': 0}, 'id': 'call_nysk', 'type': 'tool_call'}], usage_metadata={'input_tokens': 353, 'output_tokens': 185, 'total_tokens': 538}),\n",
       "  ToolMessage(content=\"Error: KeyError('score_threshold')\\n Please fix your mistakes.\", name='retriever_tool', id='f735e59a-88fa-4b2f-bbdd-86e0400994f8', tool_call_id='call_nysk', status='error'),\n",
       "  AIMessage(content='<tool_call>{\"id\":\"call_nj0l\",\"name\":\"retriever_tool\",\"arguments\":{\"question\":\"What is the capital of France?\"}}<｜tool▁calls▁end｜>', additional_kwargs={}, response_metadata={'token_usage': {'completion_tokens': 246, 'prompt_tokens': 434, 'total_tokens': 680, 'completion_time': 1.089702275, 'prompt_time': 0.029854138, 'queue_time': 0.059510542, 'total_time': 1.119556413}, 'model_name': 'deepseek-r1-distill-llama-70b', 'system_fingerprint': 'fp_1bbe7845ec', 'finish_reason': 'stop', 'logprobs': None}, id='run--3e2975ed-2393-4892-86c8-ba3565a0dd04-0', usage_metadata={'input_tokens': 434, 'output_tokens': 246, 'total_tokens': 680}),\n",
       "  HumanMessage(content='what is the current stock price of adani greens?', additional_kwargs={}, response_metadata={}, id='6b794cc2-2162-42a4-b91c-dda88aeeadd4'),\n",
       "  AIMessage(content='<tool_call>{\"id\":\"call_0\",\"name\":\"polygon_financials\",\"arguments\":{\"query\":\"ADANIGREEN.NS\"}}<｜tool▁calls▁end｜>', additional_kwargs={}, response_metadata={'token_usage': {'completion_tokens': 159, 'prompt_tokens': 490, 'total_tokens': 649, 'completion_time': 0.676097461, 'prompt_time': 0.038778418, 'queue_time': 0.054480891999999996, 'total_time': 0.714875879}, 'model_name': 'deepseek-r1-distill-llama-70b', 'system_fingerprint': 'fp_1bbe7845ec', 'finish_reason': 'stop', 'logprobs': None}, id='run--040f7b30-10ab-40c2-908e-bfe83e672b5d-0', usage_metadata={'input_tokens': 490, 'output_tokens': 159, 'total_tokens': 649}),\n",
       "  HumanMessage(content='what is the current stock price of adani greens?', additional_kwargs={}, response_metadata={}, id='15305e3d-2087-4303-895e-725c5f32137b'),\n",
       "  AIMessage(content='<tool_call>{\"id\":\"call_0\",\"name\":\"polygon_financials\",\"arguments\":{\"query\":\"ADANIGREEN.NS\"}}<｜tool▁calls▁end｜>', additional_kwargs={}, response_metadata={'token_usage': {'completion_tokens': 168, 'prompt_tokens': 543, 'total_tokens': 711, 'completion_time': 0.653039458, 'prompt_time': 0.035047993, 'queue_time': 0.071006817, 'total_time': 0.688087451}, 'model_name': 'deepseek-r1-distill-llama-70b', 'system_fingerprint': 'fp_1bbe7845ec', 'finish_reason': 'stop', 'logprobs': None}, id='run--4393c52b-6b8f-48a0-9c49-ebed443661fd-0', usage_metadata={'input_tokens': 543, 'output_tokens': 168, 'total_tokens': 711}),\n",
       "  HumanMessage(content='what is the current stock price of adani greens?', additional_kwargs={}, response_metadata={}, id='f5927452-dfa1-460f-afa6-b76a913515c5'),\n",
       "  AIMessage(content='<tool_call>{\"name\":\"polygon_financials\",\"arguments\":{\"query\":\"ADANIGREEN.NS\"}}<｜tool▁calls▁end｜>', additional_kwargs={}, response_metadata={'token_usage': {'completion_tokens': 182, 'prompt_tokens': 596, 'total_tokens': 778, 'completion_time': 0.748316971, 'prompt_time': 0.048860835, 'queue_time': 0.055662634999999995, 'total_time': 0.797177806}, 'model_name': 'deepseek-r1-distill-llama-70b', 'system_fingerprint': 'fp_1bbe7845ec', 'finish_reason': 'stop', 'logprobs': None}, id='run--b87a8e91-26bd-41e3-84c7-0cb54a4bdf08-0', usage_metadata={'input_tokens': 596, 'output_tokens': 182, 'total_tokens': 778}),\n",
       "  HumanMessage(content='what is the current stock price of adani greens?', additional_kwargs={}, response_metadata={}, id='cbcc5149-637f-4757-9273-00cc719d4c6c'),\n",
       "  AIMessage(content='<tool_call>{\"name\":\"polygon_financials\",\"arguments\":{\"query\":\"ADANIGREEN.NS\"}}<｜tool▁calls▁end｜>', additional_kwargs={}, response_metadata={'token_usage': {'completion_tokens': 131, 'prompt_tokens': 643, 'total_tokens': 774, 'completion_time': 0.532821807, 'prompt_time': 0.045414405, 'queue_time': 0.054995145, 'total_time': 0.578236212}, 'model_name': 'deepseek-r1-distill-llama-70b', 'system_fingerprint': 'fp_1bbe7845ec', 'finish_reason': 'stop', 'logprobs': None}, id='run--5da0a72e-18d4-4e4a-91d2-18b74287451e-0', usage_metadata={'input_tokens': 643, 'output_tokens': 131, 'total_tokens': 774})]}"
      ]
     },
     "execution_count": 78,
     "metadata": {},
     "output_type": "execute_result"
    }
   ],
   "source": [
    "result"
   ]
  },
  {
   "cell_type": "code",
   "execution_count": 76,
   "id": "a0de3ef4",
   "metadata": {},
   "outputs": [],
   "source": [
    "# for output in graph.stream({\"messages\": messages}, config=config):\n",
    "#     print(output)\n",
    "        "
   ]
  },
  {
   "cell_type": "code",
   "execution_count": 79,
   "id": "61656e60",
   "metadata": {},
   "outputs": [],
   "source": [
    "snapshot = graph.get_state(config=config)"
   ]
  },
  {
   "cell_type": "code",
   "execution_count": 80,
   "id": "060b55a4",
   "metadata": {},
   "outputs": [
    {
     "data": {
      "text/plain": [
       "()"
      ]
     },
     "execution_count": 80,
     "metadata": {},
     "output_type": "execute_result"
    }
   ],
   "source": [
    "snapshot.next"
   ]
  },
  {
   "cell_type": "code",
   "execution_count": 81,
   "id": "b1875d20",
   "metadata": {},
   "outputs": [],
   "source": [
    "current_message = snapshot.values['messages']"
   ]
  },
  {
   "cell_type": "code",
   "execution_count": 82,
   "id": "217deeb1",
   "metadata": {},
   "outputs": [
    {
     "data": {
      "text/plain": [
       "[HumanMessage(content='hi', additional_kwargs={}, response_metadata={}, id='b4ab6364-090e-4ae3-bd84-2cdac1f935a2'),\n",
       " AIMessage(content='', additional_kwargs={'tool_calls': [{'id': 'call_kx92', 'function': {'arguments': '{\"question\": \"What is the capital of France?\"}', 'name': 'retriever_tool'}, 'type': 'function'}]}, response_metadata={'token_usage': {'completion_tokens': 457, 'prompt_tokens': 277, 'total_tokens': 734, 'completion_time': 1.701199335, 'prompt_time': 0.019032456, 'queue_time': 0.056287724, 'total_time': 1.720231791}, 'model_name': 'deepseek-r1-distill-llama-70b', 'system_fingerprint': 'fp_1bbe7845ec', 'finish_reason': 'tool_calls', 'logprobs': None}, id='run--7731c4e6-b28d-49ff-a7af-b3640fff411e-0', tool_calls=[{'name': 'retriever_tool', 'args': {'question': 'What is the capital of France?'}, 'id': 'call_kx92', 'type': 'tool_call'}], usage_metadata={'input_tokens': 277, 'output_tokens': 457, 'total_tokens': 734}),\n",
       " ToolMessage(content=\"Error: KeyError('score_threshold')\\n Please fix your mistakes.\", name='retriever_tool', id='b287ca70-a244-4cd9-a9ba-8fcaf3917a7d', tool_call_id='call_kx92', status='error'),\n",
       " AIMessage(content='', additional_kwargs={'tool_calls': [{'id': 'call_nysk', 'function': {'arguments': '{\"question\":\"What is the capital of France?\",\"score_threshold\":0}', 'name': 'retriever_tool'}, 'type': 'function'}]}, response_metadata={'token_usage': {'completion_tokens': 185, 'prompt_tokens': 353, 'total_tokens': 538, 'completion_time': 0.883972735, 'prompt_time': 0.03020654, 'queue_time': 0.05485063, 'total_time': 0.914179275}, 'model_name': 'deepseek-r1-distill-llama-70b', 'system_fingerprint': 'fp_1bbe7845ec', 'finish_reason': 'tool_calls', 'logprobs': None}, id='run--cd05473e-f733-4147-9cb2-17286225f74d-0', tool_calls=[{'name': 'retriever_tool', 'args': {'question': 'What is the capital of France?', 'score_threshold': 0}, 'id': 'call_nysk', 'type': 'tool_call'}], usage_metadata={'input_tokens': 353, 'output_tokens': 185, 'total_tokens': 538}),\n",
       " ToolMessage(content=\"Error: KeyError('score_threshold')\\n Please fix your mistakes.\", name='retriever_tool', id='f735e59a-88fa-4b2f-bbdd-86e0400994f8', tool_call_id='call_nysk', status='error'),\n",
       " AIMessage(content='<tool_call>{\"id\":\"call_nj0l\",\"name\":\"retriever_tool\",\"arguments\":{\"question\":\"What is the capital of France?\"}}<｜tool▁calls▁end｜>', additional_kwargs={}, response_metadata={'token_usage': {'completion_tokens': 246, 'prompt_tokens': 434, 'total_tokens': 680, 'completion_time': 1.089702275, 'prompt_time': 0.029854138, 'queue_time': 0.059510542, 'total_time': 1.119556413}, 'model_name': 'deepseek-r1-distill-llama-70b', 'system_fingerprint': 'fp_1bbe7845ec', 'finish_reason': 'stop', 'logprobs': None}, id='run--3e2975ed-2393-4892-86c8-ba3565a0dd04-0', usage_metadata={'input_tokens': 434, 'output_tokens': 246, 'total_tokens': 680}),\n",
       " HumanMessage(content='what is the current stock price of adani greens?', additional_kwargs={}, response_metadata={}, id='6b794cc2-2162-42a4-b91c-dda88aeeadd4'),\n",
       " AIMessage(content='<tool_call>{\"id\":\"call_0\",\"name\":\"polygon_financials\",\"arguments\":{\"query\":\"ADANIGREEN.NS\"}}<｜tool▁calls▁end｜>', additional_kwargs={}, response_metadata={'token_usage': {'completion_tokens': 159, 'prompt_tokens': 490, 'total_tokens': 649, 'completion_time': 0.676097461, 'prompt_time': 0.038778418, 'queue_time': 0.054480891999999996, 'total_time': 0.714875879}, 'model_name': 'deepseek-r1-distill-llama-70b', 'system_fingerprint': 'fp_1bbe7845ec', 'finish_reason': 'stop', 'logprobs': None}, id='run--040f7b30-10ab-40c2-908e-bfe83e672b5d-0', usage_metadata={'input_tokens': 490, 'output_tokens': 159, 'total_tokens': 649}),\n",
       " HumanMessage(content='what is the current stock price of adani greens?', additional_kwargs={}, response_metadata={}, id='15305e3d-2087-4303-895e-725c5f32137b'),\n",
       " AIMessage(content='<tool_call>{\"id\":\"call_0\",\"name\":\"polygon_financials\",\"arguments\":{\"query\":\"ADANIGREEN.NS\"}}<｜tool▁calls▁end｜>', additional_kwargs={}, response_metadata={'token_usage': {'completion_tokens': 168, 'prompt_tokens': 543, 'total_tokens': 711, 'completion_time': 0.653039458, 'prompt_time': 0.035047993, 'queue_time': 0.071006817, 'total_time': 0.688087451}, 'model_name': 'deepseek-r1-distill-llama-70b', 'system_fingerprint': 'fp_1bbe7845ec', 'finish_reason': 'stop', 'logprobs': None}, id='run--4393c52b-6b8f-48a0-9c49-ebed443661fd-0', usage_metadata={'input_tokens': 543, 'output_tokens': 168, 'total_tokens': 711}),\n",
       " HumanMessage(content='what is the current stock price of adani greens?', additional_kwargs={}, response_metadata={}, id='f5927452-dfa1-460f-afa6-b76a913515c5'),\n",
       " AIMessage(content='<tool_call>{\"name\":\"polygon_financials\",\"arguments\":{\"query\":\"ADANIGREEN.NS\"}}<｜tool▁calls▁end｜>', additional_kwargs={}, response_metadata={'token_usage': {'completion_tokens': 182, 'prompt_tokens': 596, 'total_tokens': 778, 'completion_time': 0.748316971, 'prompt_time': 0.048860835, 'queue_time': 0.055662634999999995, 'total_time': 0.797177806}, 'model_name': 'deepseek-r1-distill-llama-70b', 'system_fingerprint': 'fp_1bbe7845ec', 'finish_reason': 'stop', 'logprobs': None}, id='run--b87a8e91-26bd-41e3-84c7-0cb54a4bdf08-0', usage_metadata={'input_tokens': 596, 'output_tokens': 182, 'total_tokens': 778}),\n",
       " HumanMessage(content='what is the current stock price of adani greens?', additional_kwargs={}, response_metadata={}, id='cbcc5149-637f-4757-9273-00cc719d4c6c'),\n",
       " AIMessage(content='<tool_call>{\"name\":\"polygon_financials\",\"arguments\":{\"query\":\"ADANIGREEN.NS\"}}<｜tool▁calls▁end｜>', additional_kwargs={}, response_metadata={'token_usage': {'completion_tokens': 131, 'prompt_tokens': 643, 'total_tokens': 774, 'completion_time': 0.532821807, 'prompt_time': 0.045414405, 'queue_time': 0.054995145, 'total_time': 0.578236212}, 'model_name': 'deepseek-r1-distill-llama-70b', 'system_fingerprint': 'fp_1bbe7845ec', 'finish_reason': 'stop', 'logprobs': None}, id='run--5da0a72e-18d4-4e4a-91d2-18b74287451e-0', usage_metadata={'input_tokens': 643, 'output_tokens': 131, 'total_tokens': 774})]"
      ]
     },
     "execution_count": 82,
     "metadata": {},
     "output_type": "execute_result"
    }
   ],
   "source": [
    "current_message"
   ]
  },
  {
   "cell_type": "code",
   "execution_count": 83,
   "id": "73006056",
   "metadata": {},
   "outputs": [
    {
     "ename": "AttributeError",
     "evalue": "'list' object has no attribute 'tool_calls'",
     "output_type": "error",
     "traceback": [
      "\u001b[31m---------------------------------------------------------------------------\u001b[39m",
      "\u001b[31mAttributeError\u001b[39m                            Traceback (most recent call last)",
      "\u001b[36mCell\u001b[39m\u001b[36m \u001b[39m\u001b[32mIn[83]\u001b[39m\u001b[32m, line 1\u001b[39m\n\u001b[32m----> \u001b[39m\u001b[32m1\u001b[39m \u001b[43mcurrent_message\u001b[49m\u001b[43m.\u001b[49m\u001b[43mtool_calls\u001b[49m[\u001b[32m0\u001b[39m]\n",
      "\u001b[31mAttributeError\u001b[39m: 'list' object has no attribute 'tool_calls'"
     ]
    }
   ],
   "source": [
    "current_message.tool_calls[0]"
   ]
  },
  {
   "cell_type": "code",
   "execution_count": null,
   "id": "e56eefba",
   "metadata": {},
   "outputs": [],
   "source": []
  }
 ],
 "metadata": {
  "kernelspec": {
   "display_name": "Python 3",
   "language": "python",
   "name": "python3"
  },
  "language_info": {
   "codemirror_mode": {
    "name": "ipython",
    "version": 3
   },
   "file_extension": ".py",
   "mimetype": "text/x-python",
   "name": "python",
   "nbconvert_exporter": "python",
   "pygments_lexer": "ipython3",
   "version": "3.12.0"
  }
 },
 "nbformat": 4,
 "nbformat_minor": 5
}
